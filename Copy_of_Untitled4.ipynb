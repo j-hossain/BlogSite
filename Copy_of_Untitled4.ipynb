{
  "nbformat": 4,
  "nbformat_minor": 0,
  "metadata": {
    "colab": {
      "name": "Copy of Untitled4.ipynb",
      "provenance": [],
      "authorship_tag": "ABX9TyMu1Z/umn8ziHGBJRUCFl5S",
      "include_colab_link": true
    },
    "kernelspec": {
      "name": "python3",
      "display_name": "Python 3"
    },
    "language_info": {
      "name": "python"
    }
  },
  "cells": [
    {
      "cell_type": "markdown",
      "metadata": {
        "id": "view-in-github",
        "colab_type": "text"
      },
      "source": [
        "<a href=\"https://colab.research.google.com/github/j-hossain/BlogSite/blob/main/Copy_of_Untitled4.ipynb\" target=\"_parent\"><img src=\"https://colab.research.google.com/assets/colab-badge.svg\" alt=\"Open In Colab\"/></a>"
      ]
    },
    {
      "cell_type": "code",
      "execution_count": 120,
      "metadata": {
        "id": "OIoCZLIrDGZ3"
      },
      "outputs": [],
      "source": [
        "import pandas as pd\n",
        "import numpy as np\n",
        "from sklearn import svm\n",
        "from sklearn.metrics import classification_report\n",
        "from sklearn import metrics\n",
        "from sklearn.metrics import (precision_score, recall_score,f1_score, accuracy_score,mean_squared_error,mean_absolute_error)\n",
        "from sklearn.ensemble import RandomForestClassifier\n",
        "from sklearn.preprocessing import Normalizer\n",
        "from sklearn.preprocessing import MinMaxScaler\n",
        "from sklearn.model_selection import GridSearchCV, train_test_split\n",
        "from sklearn.svm import SVC\n",
        "from sklearn.metrics import confusion_matrix\n",
        "from sklearn.decomposition import PCA\n",
        "from sklearn.tree import DecisionTreeClassifier\n",
        "from sklearn.neighbors import KNeighborsClassifier"
      ]
    },
    {
      "cell_type": "code",
      "source": [
        "# first upload the kaggle api key to fetch dataset\n",
        "from google.colab import files\n",
        "apiKey = files.upload()"
      ],
      "metadata": {
        "id": "b_LRP6O5Tz5b",
        "outputId": "0b4abff4-b1fe-4f46-d163-0753643ee018",
        "colab": {
          "resources": {
            "http://localhost:8080/nbextensions/google.colab/files.js": {
              "data": "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",
              "ok": true,
              "headers": [
                [
                  "content-type",
                  "application/javascript"
                ]
              ],
              "status": 200,
              "status_text": ""
            }
          },
          "base_uri": "https://localhost:8080/",
          "height": 74
        }
      },
      "execution_count": 2,
      "outputs": [
        {
          "output_type": "display_data",
          "data": {
            "text/plain": [
              "<IPython.core.display.HTML object>"
            ],
            "text/html": [
              "\n",
              "     <input type=\"file\" id=\"files-f92acaf1-f6d3-439f-9066-062e8bc6385e\" name=\"files[]\" multiple disabled\n",
              "        style=\"border:none\" />\n",
              "     <output id=\"result-f92acaf1-f6d3-439f-9066-062e8bc6385e\">\n",
              "      Upload widget is only available when the cell has been executed in the\n",
              "      current browser session. Please rerun this cell to enable.\n",
              "      </output>\n",
              "      <script src=\"/nbextensions/google.colab/files.js\"></script> "
            ]
          },
          "metadata": {}
        },
        {
          "output_type": "stream",
          "name": "stdout",
          "text": [
            "Saving kaggle.json to kaggle.json\n"
          ]
        }
      ]
    },
    {
      "cell_type": "code",
      "source": [
        "import os\n",
        "os.environ['KAGGLE_CONFIG_DIR'] = \"/content\"\n",
        "! chmod 600 /content/kaggle.json\n",
        "! kaggle datasets download solarmainframe/ids-intrusion-csv\n",
        "! mkdir dataset\n",
        "! unzip /content/ids-intrusion-csv.zip -d '/content/dataset'"
      ],
      "metadata": {
        "id": "M4KgoM8_T7co",
        "outputId": "690345dc-741d-49dd-a96d-f84689ab4943",
        "colab": {
          "base_uri": "https://localhost:8080/"
        }
      },
      "execution_count": 3,
      "outputs": [
        {
          "output_type": "stream",
          "name": "stdout",
          "text": [
            "Downloading ids-intrusion-csv.zip to /content\n",
            "100% 1.59G/1.60G [00:19<00:00, 96.0MB/s]\n",
            "100% 1.60G/1.60G [00:19<00:00, 86.3MB/s]\n",
            "Archive:  /content/ids-intrusion-csv.zip\n",
            "  inflating: /content/dataset/02-14-2018.csv  \n",
            "  inflating: /content/dataset/02-15-2018.csv  \n",
            "  inflating: /content/dataset/02-16-2018.csv  \n",
            "  inflating: /content/dataset/02-20-2018.csv  \n",
            "  inflating: /content/dataset/02-21-2018.csv  \n",
            "  inflating: /content/dataset/02-22-2018.csv  \n",
            "  inflating: /content/dataset/02-23-2018.csv  \n",
            "  inflating: /content/dataset/02-28-2018.csv  \n",
            "  inflating: /content/dataset/03-01-2018.csv  \n",
            "  inflating: /content/dataset/03-02-2018.csv  \n"
          ]
        }
      ]
    },
    {
      "cell_type": "code",
      "source": [
        "dtp = {}\n",
        "drp = [\"Timestamp\"]"
      ],
      "metadata": {
        "id": "xTme_kqIU9Zt"
      },
      "execution_count": 29,
      "outputs": []
    },
    {
      "cell_type": "code",
      "source": [
        "df=pd.read_csv('/content/dataset/02-14-2018.csv',dtype=dtp,usecols=lambda x: x not in drp)"
      ],
      "metadata": {
        "id": "XIFnUy_TUOn4"
      },
      "execution_count": 30,
      "outputs": []
    },
    {
      "cell_type": "code",
      "source": [
        "for i, name in enumerate(df.columns):\n",
        "  if name=='Label':\n",
        "    pass\n",
        "  elif df[name].dtype==\"int64\":\n",
        "    if df[name].min()>=0:\n",
        "      if df[name].max()<=255:\n",
        "        dtp[name]=\"uint8\"\n",
        "      elif df[name].max()<=65535:\n",
        "        dtp[name]=\"uint16\"\n",
        "      elif df[name].max()<=2147483647:\n",
        "        dtp[name]=\"uint32\"\n",
        "    else:\n",
        "      if df[name].min()>=-128 and df[name].max()<=127:\n",
        "        dtp[name]=\"int8\"\n",
        "      elif df[name].min()>=-32768 and df[name].max()<=32767:\n",
        "        dtp[name]=\"int16\"\n",
        "      elif df[name].min()>=-2147483648 and df[name].max()<=2147483647:\n",
        "        dtp[name]=\"int32\"\n",
        "  else:\n",
        "      if df[name].min()>=-2147483648 and df[name].max()<=2147483647:\n",
        "        dtp[name]=\"float32\"\n",
        "  \n",
        "print(dtp)"
      ],
      "metadata": {
        "colab": {
          "base_uri": "https://localhost:8080/"
        },
        "id": "ZhcjftEWHTNe",
        "outputId": "23aa00b9-ee52-48fd-82cb-4bee5b25183d"
      },
      "execution_count": 31,
      "outputs": [
        {
          "output_type": "stream",
          "name": "stdout",
          "text": [
            "{'Dst Port': 'uint16', 'Protocol': 'uint8', 'Tot Fwd Pkts': 'uint16', 'Tot Bwd Pkts': 'uint16', 'TotLen Fwd Pkts': 'uint32', 'TotLen Bwd Pkts': 'uint32', 'Fwd Pkt Len Max': 'uint16', 'Fwd Pkt Len Min': 'uint16', 'Fwd Pkt Len Mean': 'float32', 'Fwd Pkt Len Std': 'float32', 'Bwd Pkt Len Max': 'uint16', 'Bwd Pkt Len Min': 'uint16', 'Bwd Pkt Len Mean': 'float32', 'Bwd Pkt Len Std': 'float32', 'Bwd IAT Tot': 'uint32', 'Bwd IAT Mean': 'float32', 'Bwd IAT Std': 'float32', 'Bwd IAT Max': 'uint32', 'Bwd IAT Min': 'uint32', 'Fwd PSH Flags': 'uint8', 'Bwd PSH Flags': 'uint8', 'Fwd URG Flags': 'uint8', 'Bwd URG Flags': 'uint8', 'Fwd Header Len': 'uint32', 'Bwd Header Len': 'uint32', 'Fwd Pkts/s': 'float32', 'Bwd Pkts/s': 'float32', 'Pkt Len Min': 'uint16', 'Pkt Len Max': 'uint16', 'Pkt Len Mean': 'float32', 'Pkt Len Std': 'float32', 'Pkt Len Var': 'float32', 'FIN Flag Cnt': 'uint8', 'SYN Flag Cnt': 'uint8', 'RST Flag Cnt': 'uint8', 'PSH Flag Cnt': 'uint8', 'ACK Flag Cnt': 'uint8', 'URG Flag Cnt': 'uint8', 'CWE Flag Count': 'uint8', 'ECE Flag Cnt': 'uint8', 'Down/Up Ratio': 'uint8', 'Pkt Size Avg': 'float32', 'Fwd Seg Size Avg': 'float32', 'Bwd Seg Size Avg': 'float32', 'Fwd Byts/b Avg': 'uint8', 'Fwd Pkts/b Avg': 'uint8', 'Fwd Blk Rate Avg': 'uint8', 'Bwd Byts/b Avg': 'uint8', 'Bwd Pkts/b Avg': 'uint8', 'Bwd Blk Rate Avg': 'uint8', 'Subflow Fwd Pkts': 'uint16', 'Subflow Fwd Byts': 'uint32', 'Subflow Bwd Pkts': 'uint16', 'Subflow Bwd Byts': 'uint32', 'Init Fwd Win Byts': 'int32', 'Init Bwd Win Byts': 'int32', 'Fwd Act Data Pkts': 'uint16', 'Fwd Seg Size Min': 'uint8', 'Active Mean': 'float32', 'Active Std': 'float32', 'Active Max': 'uint32', 'Active Min': 'uint32'}\n"
          ]
        }
      ]
    },
    {
      "cell_type": "code",
      "source": [
        "df=pd.read_csv('/content/dataset/02-14-2018.csv',dtype=dtp,usecols=lambda x: x not in drp)"
      ],
      "metadata": {
        "id": "JGSbiBgPJ4WM"
      },
      "execution_count": 32,
      "outputs": []
    },
    {
      "cell_type": "code",
      "source": [
        "pd.set_option('display.max_rows', 500)\n",
        "for i, name in enumerate(df.columns):\n",
        "    # print(f'\"{name}\":{{\"dtype\":{df[name].dtype}, \"min\":{df[name].min()}, \"max\":{df[name].max()}}} {\",\" if i>(len(df.columns)-1) else \"\"}')\n",
        "    print(f'\"{name}\":{{\"dtype\":{df[name].dtype}, \"min\":{len(df[name].unique())}}} {\",\" if i>(len(df.columns)-1) else \"\"}')\n",
        "print(\"}\") "
      ],
      "metadata": {
        "id": "QxZhLAW4WbFC",
        "outputId": "d73a70eb-6288-448f-bbd2-66b643664338",
        "colab": {
          "base_uri": "https://localhost:8080/"
        }
      },
      "execution_count": 33,
      "outputs": [
        {
          "output_type": "stream",
          "name": "stdout",
          "text": [
            "\"Dst Port\":{\"dtype\":uint16, \"min\":18567} \n",
            "\"Protocol\":{\"dtype\":uint8, \"min\":3} \n",
            "\"Flow Duration\":{\"dtype\":int64, \"min\":389493} \n",
            "\"Tot Fwd Pkts\":{\"dtype\":uint16, \"min\":751} \n",
            "\"Tot Bwd Pkts\":{\"dtype\":uint16, \"min\":988} \n",
            "\"TotLen Fwd Pkts\":{\"dtype\":uint32, \"min\":5842} \n",
            "\"TotLen Bwd Pkts\":{\"dtype\":uint32, \"min\":15656} \n",
            "\"Fwd Pkt Len Max\":{\"dtype\":uint16, \"min\":1390} \n",
            "\"Fwd Pkt Len Min\":{\"dtype\":uint16, \"min\":112} \n",
            "\"Fwd Pkt Len Mean\":{\"dtype\":float32, \"min\":17879} \n",
            "\"Fwd Pkt Len Std\":{\"dtype\":float32, \"min\":27491} \n",
            "\"Bwd Pkt Len Max\":{\"dtype\":uint16, \"min\":958} \n",
            "\"Bwd Pkt Len Min\":{\"dtype\":uint16, \"min\":270} \n",
            "\"Bwd Pkt Len Mean\":{\"dtype\":float32, \"min\":24517} \n",
            "\"Bwd Pkt Len Std\":{\"dtype\":float32, \"min\":28813} \n",
            "\"Flow Byts/s\":{\"dtype\":float64, \"min\":454333} \n",
            "\"Flow Pkts/s\":{\"dtype\":float64, \"min\":417167} \n",
            "\"Flow IAT Mean\":{\"dtype\":float64, \"min\":418622} \n",
            "\"Flow IAT Std\":{\"dtype\":float64, \"min\":416669} \n",
            "\"Flow IAT Max\":{\"dtype\":int64, \"min\":295378} \n",
            "\"Flow IAT Min\":{\"dtype\":int64, \"min\":66507} \n",
            "\"Fwd IAT Tot\":{\"dtype\":int64, \"min\":352376} \n",
            "\"Fwd IAT Mean\":{\"dtype\":float64, \"min\":373758} \n",
            "\"Fwd IAT Std\":{\"dtype\":float64, \"min\":341531} \n",
            "\"Fwd IAT Max\":{\"dtype\":int64, \"min\":303763} \n",
            "\"Fwd IAT Min\":{\"dtype\":int64, \"min\":89620} \n",
            "\"Bwd IAT Tot\":{\"dtype\":uint32, \"min\":293735} \n",
            "\"Bwd IAT Mean\":{\"dtype\":float32, \"min\":307385} \n",
            "\"Bwd IAT Std\":{\"dtype\":float32, \"min\":328081} \n",
            "\"Bwd IAT Max\":{\"dtype\":uint32, \"min\":222886} \n",
            "\"Bwd IAT Min\":{\"dtype\":uint32, \"min\":108796} \n",
            "\"Fwd PSH Flags\":{\"dtype\":uint8, \"min\":2} \n",
            "\"Bwd PSH Flags\":{\"dtype\":uint8, \"min\":1} \n",
            "\"Fwd URG Flags\":{\"dtype\":uint8, \"min\":1} \n",
            "\"Bwd URG Flags\":{\"dtype\":uint8, \"min\":1} \n",
            "\"Fwd Header Len\":{\"dtype\":uint32, \"min\":1237} \n",
            "\"Bwd Header Len\":{\"dtype\":uint32, \"min\":1843} \n",
            "\"Fwd Pkts/s\":{\"dtype\":float32, \"min\":406269} \n",
            "\"Bwd Pkts/s\":{\"dtype\":float32, \"min\":359447} \n",
            "\"Pkt Len Min\":{\"dtype\":uint16, \"min\":80} \n",
            "\"Pkt Len Max\":{\"dtype\":uint16, \"min\":1139} \n",
            "\"Pkt Len Mean\":{\"dtype\":float32, \"min\":36030} \n",
            "\"Pkt Len Std\":{\"dtype\":float32, \"min\":42490} \n",
            "\"Pkt Len Var\":{\"dtype\":float32, \"min\":42525} \n",
            "\"FIN Flag Cnt\":{\"dtype\":uint8, \"min\":2} \n",
            "\"SYN Flag Cnt\":{\"dtype\":uint8, \"min\":2} \n",
            "\"RST Flag Cnt\":{\"dtype\":uint8, \"min\":2} \n",
            "\"PSH Flag Cnt\":{\"dtype\":uint8, \"min\":2} \n",
            "\"ACK Flag Cnt\":{\"dtype\":uint8, \"min\":2} \n",
            "\"URG Flag Cnt\":{\"dtype\":uint8, \"min\":2} \n",
            "\"CWE Flag Count\":{\"dtype\":uint8, \"min\":1} \n",
            "\"ECE Flag Cnt\":{\"dtype\":uint8, \"min\":2} \n",
            "\"Down/Up Ratio\":{\"dtype\":uint8, \"min\":33} \n",
            "\"Pkt Size Avg\":{\"dtype\":float32, \"min\":35682} \n",
            "\"Fwd Seg Size Avg\":{\"dtype\":float32, \"min\":17879} \n",
            "\"Bwd Seg Size Avg\":{\"dtype\":float32, \"min\":24517} \n",
            "\"Fwd Byts/b Avg\":{\"dtype\":uint8, \"min\":1} \n",
            "\"Fwd Pkts/b Avg\":{\"dtype\":uint8, \"min\":1} \n",
            "\"Fwd Blk Rate Avg\":{\"dtype\":uint8, \"min\":1} \n",
            "\"Bwd Byts/b Avg\":{\"dtype\":uint8, \"min\":1} \n",
            "\"Bwd Pkts/b Avg\":{\"dtype\":uint8, \"min\":1} \n",
            "\"Bwd Blk Rate Avg\":{\"dtype\":uint8, \"min\":1} \n",
            "\"Subflow Fwd Pkts\":{\"dtype\":uint16, \"min\":751} \n",
            "\"Subflow Fwd Byts\":{\"dtype\":uint32, \"min\":5842} \n",
            "\"Subflow Bwd Pkts\":{\"dtype\":uint16, \"min\":988} \n",
            "\"Subflow Bwd Byts\":{\"dtype\":uint32, \"min\":15656} \n",
            "\"Init Fwd Win Byts\":{\"dtype\":int32, \"min\":3308} \n",
            "\"Init Bwd Win Byts\":{\"dtype\":int32, \"min\":3547} \n",
            "\"Fwd Act Data Pkts\":{\"dtype\":uint16, \"min\":112} \n",
            "\"Fwd Seg Size Min\":{\"dtype\":uint8, \"min\":10} \n",
            "\"Active Mean\":{\"dtype\":float32, \"min\":73589} \n",
            "\"Active Std\":{\"dtype\":float32, \"min\":55361} \n",
            "\"Active Max\":{\"dtype\":uint32, \"min\":71437} \n",
            "\"Active Min\":{\"dtype\":uint32, \"min\":38864} \n",
            "\"Idle Mean\":{\"dtype\":float64, \"min\":80419} \n",
            "\"Idle Std\":{\"dtype\":float64, \"min\":57847} \n",
            "\"Idle Max\":{\"dtype\":int64, \"min\":59134} \n",
            "\"Idle Min\":{\"dtype\":int64, \"min\":69046} \n",
            "\"Label\":{\"dtype\":object, \"min\":3} \n",
            "}\n"
          ]
        }
      ]
    },
    {
      "cell_type": "code",
      "source": [
        "d2 = pd.read_csv('/content/dataset/02-15-2018.csv',dtype=dtp,usecols=lambda x: x not in drp)"
      ],
      "metadata": {
        "id": "mmUsROlEPOS3"
      },
      "execution_count": 34,
      "outputs": []
    },
    {
      "cell_type": "code",
      "source": [
        "d3 = pd.read_csv('/content/dataset/02-16-2018.csv',usecols=lambda x: x not in drp)"
      ],
      "metadata": {
        "colab": {
          "base_uri": "https://localhost:8080/"
        },
        "id": "YKHvfrnFPm4Z",
        "outputId": "79fa57c3-4f4b-4180-846f-57c4a33234ca"
      },
      "execution_count": 35,
      "outputs": [
        {
          "output_type": "stream",
          "name": "stderr",
          "text": [
            "/usr/local/lib/python3.7/dist-packages/IPython/core/interactiveshell.py:2882: DtypeWarning: Columns (0,1,3,4,5,6,7,8,9,10,11,12,13,14,15,16,17,18,19,20,21,22,23,24,25,26,27,28,29,30,31,32,33,34,35,36,37,38,39,40,41,42,43,44,45,46,47,48,49,50,51,52,53,54,55,56,57,58,59,60,61,62,63,64,65,66,67,68,69,70,71,72,73,74,75,76,77,78) have mixed types.Specify dtype option on import or set low_memory=False.\n",
            "  exec(code_obj, self.user_global_ns, self.user_ns)\n"
          ]
        }
      ]
    },
    {
      "cell_type": "code",
      "source": [
        "# Some columns have mixed values like 1,2,'3',4,'2' etc.\n",
        "# taking them to numric while handling the null values in errors\n",
        "for i, name in enumerate(d3.columns):\n",
        "  if name=='Label':\n",
        "    pass\n",
        "  elif d3[name].dtype==object:\n",
        "    d3[name] = pd.to_numeric(d3[name], errors='coerce').convert_dtypes()\n"
      ],
      "metadata": {
        "id": "CLEb_ewYUeB8"
      },
      "execution_count": 38,
      "outputs": []
    },
    {
      "cell_type": "code",
      "source": [
        "d3['Label'].unique()"
      ],
      "metadata": {
        "colab": {
          "base_uri": "https://localhost:8080/"
        },
        "id": "r-0x0F3-V91I",
        "outputId": "c807511a-8e50-40a9-f7cd-8d4f5d25c47e"
      },
      "execution_count": 40,
      "outputs": [
        {
          "output_type": "execute_result",
          "data": {
            "text/plain": [
              "array(['Benign', 'DoS attacks-SlowHTTPTest', 'DoS attacks-Hulk', 'Label'],\n",
              "      dtype=object)"
            ]
          },
          "metadata": {},
          "execution_count": 40
        }
      ]
    },
    {
      "cell_type": "code",
      "source": [
        "d4= d3.dropna()"
      ],
      "metadata": {
        "id": "ioCo9gOWucB6"
      },
      "execution_count": 41,
      "outputs": []
    },
    {
      "cell_type": "code",
      "source": [
        "d3=d4"
      ],
      "metadata": {
        "id": "TJ8ho6rx1hPa"
      },
      "execution_count": 42,
      "outputs": []
    },
    {
      "cell_type": "code",
      "source": [
        "for i, name in enumerate(d3.columns):\n",
        "  if name=='Label':\n",
        "    pass\n",
        "  elif d3[name].dtype==\"Int64\":\n",
        "    if d3[name].min()>=0:\n",
        "      if d3[name].max()<=255:\n",
        "        d3[name]= d3[name].astype(\"uint8\")\n",
        "      elif d3[name].max()<=65535:\n",
        "        d3[name]= d3[name].astype(\"uint16\")\n",
        "      elif d3[name].max()<=2147483647:\n",
        "        d3[name]= d3[name].astype(\"uint32\")\n",
        "    else:\n",
        "      if d3[name].min()>=-128 and d3[name].max()<=127:\n",
        "        d3[name]= d3[name].astype(\"int8\")\n",
        "      elif d3[name].min()>=-32768 and d3[name].max()<=32767:\n",
        "        d3[name]= d3[name].astype(\"int16\")\n",
        "      elif d3[name].min()>=-2147483648 and d3[name].max()<=2147483647:\n",
        "        d3[name]= d3[name].astype(\"int32\")\n",
        "  else:\n",
        "      if d3[name].min()>=-2147483648 and d3[name].max()<=2147483647:\n",
        "        d3[name]= d3[name].astype(\"float32\")"
      ],
      "metadata": {
        "id": "QDyR7QCisWwO"
      },
      "execution_count": 43,
      "outputs": []
    },
    {
      "cell_type": "code",
      "source": [
        "d3['Label'].unique()"
      ],
      "metadata": {
        "id": "Vf8akr6Hu0Fl",
        "outputId": "c0ddec7f-1abe-4166-d97e-af9b8e6c4569",
        "colab": {
          "base_uri": "https://localhost:8080/"
        }
      },
      "execution_count": 44,
      "outputs": [
        {
          "output_type": "execute_result",
          "data": {
            "text/plain": [
              "array(['Benign', 'DoS attacks-SlowHTTPTest', 'DoS attacks-Hulk'],\n",
              "      dtype=object)"
            ]
          },
          "metadata": {},
          "execution_count": 44
        }
      ]
    },
    {
      "cell_type": "code",
      "source": [
        "d2['Label'].unique()"
      ],
      "metadata": {
        "id": "p2btNeaR1sbG",
        "outputId": "9f37e87d-7de7-46a7-b485-746cda298859",
        "colab": {
          "base_uri": "https://localhost:8080/"
        }
      },
      "execution_count": 45,
      "outputs": [
        {
          "output_type": "execute_result",
          "data": {
            "text/plain": [
              "array(['Benign', 'DoS attacks-GoldenEye', 'DoS attacks-Slowloris'],\n",
              "      dtype=object)"
            ]
          },
          "metadata": {},
          "execution_count": 45
        }
      ]
    },
    {
      "cell_type": "code",
      "source": [
        "d4 = d2.dropna()"
      ],
      "metadata": {
        "id": "Eo-k0ujs13xG"
      },
      "execution_count": 46,
      "outputs": []
    },
    {
      "cell_type": "code",
      "source": [
        "d2 = d4"
      ],
      "metadata": {
        "id": "assbkiko2C3F"
      },
      "execution_count": 47,
      "outputs": []
    },
    {
      "cell_type": "code",
      "source": [
        "df = pd.concat([d2.reset_index(drop=True),d3.reset_index(drop=True)],axis=0)"
      ],
      "metadata": {
        "id": "K26j0vc72N9Q"
      },
      "execution_count": 48,
      "outputs": []
    },
    {
      "cell_type": "code",
      "source": [
        "df['Label'].unique()"
      ],
      "metadata": {
        "id": "1-_2gYLa2Xaw",
        "outputId": "b16958fa-9945-4c50-ab08-e14f0a604f8b",
        "colab": {
          "base_uri": "https://localhost:8080/"
        }
      },
      "execution_count": 49,
      "outputs": [
        {
          "output_type": "execute_result",
          "data": {
            "text/plain": [
              "array(['Benign', 'DoS attacks-GoldenEye', 'DoS attacks-Slowloris',\n",
              "       'DoS attacks-SlowHTTPTest', 'DoS attacks-Hulk'], dtype=object)"
            ]
          },
          "metadata": {},
          "execution_count": 49
        }
      ]
    },
    {
      "cell_type": "code",
      "source": [
        "df.isna().sum().sum()"
      ],
      "metadata": {
        "colab": {
          "base_uri": "https://localhost:8080/"
        },
        "id": "OxYJFbxY1_p5",
        "outputId": "5e06241e-2e83-4f56-9f23-22dc7a9c1b38"
      },
      "execution_count": 50,
      "outputs": [
        {
          "output_type": "execute_result",
          "data": {
            "text/plain": [
              "0"
            ]
          },
          "metadata": {},
          "execution_count": 50
        }
      ]
    },
    {
      "cell_type": "code",
      "source": [
        "# taking day9 in the variable d2\n",
        "d2 = pd.read_csv('/content/dataset/03-01-2018.csv',usecols=lambda x: x not in drp)"
      ],
      "metadata": {
        "id": "NQ1XSvYywhWq",
        "outputId": "a2d3f1da-97e7-4812-e950-5d59ab4c16ba",
        "colab": {
          "base_uri": "https://localhost:8080/"
        }
      },
      "execution_count": 51,
      "outputs": [
        {
          "output_type": "stream",
          "name": "stderr",
          "text": [
            "/usr/local/lib/python3.7/dist-packages/IPython/core/interactiveshell.py:2882: DtypeWarning: Columns (0,1,3,4,5,6,7,8,9,10,11,12,13,14,15,16,17,18,19,20,21,22,23,24,25,26,27,28,29,30,31,32,33,34,35,36,37,38,39,40,41,42,43,44,45,46,47,48,49,50,51,52,53,54,55,56,57,58,59,60,61,62,63,64,65,66,67,68,69,70,71,72,73,74,75,76,77,78) have mixed types.Specify dtype option on import or set low_memory=False.\n",
            "  exec(code_obj, self.user_global_ns, self.user_ns)\n"
          ]
        }
      ]
    },
    {
      "cell_type": "code",
      "source": [
        "pd.set_option('display.max_rows', 500)\n",
        "for i, name in enumerate(d2.columns):\n",
        "    # print(f'\"{name}\":{{\"dtype\":{df[name].dtype}, \"min\":{df[name].min()}, \"max\":{df[name].max()}}} {\",\" if i>(len(df.columns)-1) else \"\"}')\n",
        "    print(f'\"{name}\":{{\"dtype\":{d2[name].dtype}, \"min\":{len(d2[name].unique())}}} {\",\" if i>(len(d2.columns)-1) else \"\"}')\n",
        "print(\"}\") "
      ],
      "metadata": {
        "id": "TWZDvXWUw24j",
        "outputId": "9312a059-3ce2-437f-c23b-9eedddb337df",
        "colab": {
          "base_uri": "https://localhost:8080/"
        }
      },
      "execution_count": 52,
      "outputs": [
        {
          "output_type": "stream",
          "name": "stdout",
          "text": [
            "\"Dst Port\":{\"dtype\":object, \"min\":20849} \n",
            "\"Protocol\":{\"dtype\":object, \"min\":7} \n",
            "\"Flow Duration\":{\"dtype\":object, \"min\":159256} \n",
            "\"Tot Fwd Pkts\":{\"dtype\":object, \"min\":445} \n",
            "\"Tot Bwd Pkts\":{\"dtype\":object, \"min\":573} \n",
            "\"TotLen Fwd Pkts\":{\"dtype\":object, \"min\":5599} \n",
            "\"TotLen Bwd Pkts\":{\"dtype\":object, \"min\":10875} \n",
            "\"Fwd Pkt Len Max\":{\"dtype\":object, \"min\":2217} \n",
            "\"Fwd Pkt Len Min\":{\"dtype\":object, \"min\":200} \n",
            "\"Fwd Pkt Len Mean\":{\"dtype\":object, \"min\":12241} \n",
            "\"Fwd Pkt Len Std\":{\"dtype\":object, \"min\":15816} \n",
            "\"Bwd Pkt Len Max\":{\"dtype\":object, \"min\":1270} \n",
            "\"Bwd Pkt Len Min\":{\"dtype\":object, \"min\":493} \n",
            "\"Bwd Pkt Len Mean\":{\"dtype\":object, \"min\":15118} \n",
            "\"Bwd Pkt Len Std\":{\"dtype\":object, \"min\":16435} \n",
            "\"Flow Byts/s\":{\"dtype\":object, \"min\":177797} \n",
            "\"Flow Pkts/s\":{\"dtype\":object, \"min\":161005} \n",
            "\"Flow IAT Mean\":{\"dtype\":object, \"min\":151550} \n",
            "\"Flow IAT Std\":{\"dtype\":object, \"min\":129311} \n",
            "\"Flow IAT Max\":{\"dtype\":object, \"min\":90505} \n",
            "\"Flow IAT Min\":{\"dtype\":object, \"min\":27932} \n",
            "\"Fwd IAT Tot\":{\"dtype\":object, \"min\":99659} \n",
            "\"Fwd IAT Mean\":{\"dtype\":object, \"min\":133080} \n",
            "\"Fwd IAT Std\":{\"dtype\":object, \"min\":99289} \n",
            "\"Fwd IAT Max\":{\"dtype\":object, \"min\":99321} \n",
            "\"Fwd IAT Min\":{\"dtype\":object, \"min\":45456} \n",
            "\"Bwd IAT Tot\":{\"dtype\":object, \"min\":71392} \n",
            "\"Bwd IAT Mean\":{\"dtype\":object, \"min\":101682} \n",
            "\"Bwd IAT Std\":{\"dtype\":object, \"min\":85458} \n",
            "\"Bwd IAT Max\":{\"dtype\":object, \"min\":54616} \n",
            "\"Bwd IAT Min\":{\"dtype\":object, \"min\":54558} \n",
            "\"Fwd PSH Flags\":{\"dtype\":object, \"min\":5} \n",
            "\"Bwd PSH Flags\":{\"dtype\":object, \"min\":3} \n",
            "\"Fwd URG Flags\":{\"dtype\":object, \"min\":5} \n",
            "\"Bwd URG Flags\":{\"dtype\":object, \"min\":3} \n",
            "\"Fwd Header Len\":{\"dtype\":object, \"min\":875} \n",
            "\"Bwd Header Len\":{\"dtype\":object, \"min\":1275} \n",
            "\"Fwd Pkts/s\":{\"dtype\":object, \"min\":160953} \n",
            "\"Bwd Pkts/s\":{\"dtype\":object, \"min\":142512} \n",
            "\"Pkt Len Min\":{\"dtype\":object, \"min\":154} \n",
            "\"Pkt Len Max\":{\"dtype\":object, \"min\":1530} \n",
            "\"Pkt Len Mean\":{\"dtype\":object, \"min\":21894} \n",
            "\"Pkt Len Std\":{\"dtype\":object, \"min\":24017} \n",
            "\"Pkt Len Var\":{\"dtype\":object, \"min\":24017} \n",
            "\"FIN Flag Cnt\":{\"dtype\":object, \"min\":5} \n",
            "\"SYN Flag Cnt\":{\"dtype\":object, \"min\":5} \n",
            "\"RST Flag Cnt\":{\"dtype\":object, \"min\":5} \n",
            "\"PSH Flag Cnt\":{\"dtype\":object, \"min\":5} \n",
            "\"ACK Flag Cnt\":{\"dtype\":object, \"min\":5} \n",
            "\"URG Flag Cnt\":{\"dtype\":object, \"min\":5} \n",
            "\"CWE Flag Count\":{\"dtype\":object, \"min\":5} \n",
            "\"ECE Flag Cnt\":{\"dtype\":object, \"min\":5} \n",
            "\"Down/Up Ratio\":{\"dtype\":object, \"min\":39} \n",
            "\"Pkt Size Avg\":{\"dtype\":object, \"min\":21571} \n",
            "\"Fwd Seg Size Avg\":{\"dtype\":object, \"min\":12241} \n",
            "\"Bwd Seg Size Avg\":{\"dtype\":object, \"min\":15118} \n",
            "\"Fwd Byts/b Avg\":{\"dtype\":object, \"min\":3} \n",
            "\"Fwd Pkts/b Avg\":{\"dtype\":object, \"min\":3} \n",
            "\"Fwd Blk Rate Avg\":{\"dtype\":object, \"min\":3} \n",
            "\"Bwd Byts/b Avg\":{\"dtype\":object, \"min\":3} \n",
            "\"Bwd Pkts/b Avg\":{\"dtype\":object, \"min\":3} \n",
            "\"Bwd Blk Rate Avg\":{\"dtype\":object, \"min\":3} \n",
            "\"Subflow Fwd Pkts\":{\"dtype\":object, \"min\":445} \n",
            "\"Subflow Fwd Byts\":{\"dtype\":object, \"min\":5599} \n",
            "\"Subflow Bwd Pkts\":{\"dtype\":object, \"min\":573} \n",
            "\"Subflow Bwd Byts\":{\"dtype\":object, \"min\":10875} \n",
            "\"Init Fwd Win Byts\":{\"dtype\":object, \"min\":2886} \n",
            "\"Init Bwd Win Byts\":{\"dtype\":object, \"min\":2787} \n",
            "\"Fwd Act Data Pkts\":{\"dtype\":object, \"min\":181} \n",
            "\"Fwd Seg Size Min\":{\"dtype\":object, \"min\":19} \n",
            "\"Active Mean\":{\"dtype\":object, \"min\":42530} \n",
            "\"Active Std\":{\"dtype\":object, \"min\":29430} \n",
            "\"Active Max\":{\"dtype\":object, \"min\":41738} \n",
            "\"Active Min\":{\"dtype\":object, \"min\":29809} \n",
            "\"Idle Mean\":{\"dtype\":object, \"min\":16936} \n",
            "\"Idle Std\":{\"dtype\":object, \"min\":31026} \n",
            "\"Idle Max\":{\"dtype\":object, \"min\":8426} \n",
            "\"Idle Min\":{\"dtype\":object, \"min\":20452} \n",
            "\"Label\":{\"dtype\":object, \"min\":3} \n",
            "}\n"
          ]
        }
      ]
    },
    {
      "cell_type": "markdown",
      "source": [
        "It also has mixed values"
      ],
      "metadata": {
        "id": "jkEAQ7BO2K_T"
      }
    },
    {
      "cell_type": "code",
      "source": [
        "d2['Label'].unique()"
      ],
      "metadata": {
        "id": "KJjQjfjQxATr",
        "outputId": "1a960ccf-ca02-476f-c4f0-58944dbf7e8e",
        "colab": {
          "base_uri": "https://localhost:8080/"
        }
      },
      "execution_count": 53,
      "outputs": [
        {
          "output_type": "execute_result",
          "data": {
            "text/plain": [
              "array(['Benign', 'Label', 'Infilteration'], dtype=object)"
            ]
          },
          "metadata": {},
          "execution_count": 53
        }
      ]
    },
    {
      "cell_type": "code",
      "source": [
        "d2 = d2.dropna()"
      ],
      "metadata": {
        "id": "6US3x9AwxFRf"
      },
      "execution_count": 54,
      "outputs": []
    },
    {
      "cell_type": "code",
      "source": [
        "for i, name in enumerate(d2.columns):\n",
        "  if name=='Label':\n",
        "    pass\n",
        "  elif d2[name].dtype==object:\n",
        "    d2[name] = pd.to_numeric(d2[name], errors='coerce').convert_dtypes()\n"
      ],
      "metadata": {
        "id": "lZTH2psjxO6_"
      },
      "execution_count": 55,
      "outputs": []
    },
    {
      "cell_type": "code",
      "source": [
        "d2 = d2.dropna()"
      ],
      "metadata": {
        "id": "t9tM8le2xa7N"
      },
      "execution_count": 56,
      "outputs": []
    },
    {
      "cell_type": "code",
      "source": [
        "for i, name in enumerate(d2.columns):\n",
        "  if name=='Label':\n",
        "    pass\n",
        "  elif d2[name].dtype==\"Int64\":\n",
        "    if d2[name].min()>=0:\n",
        "      if d2[name].max()<=255:\n",
        "        d2[name]= d2[name].astype(\"uint8\")\n",
        "      elif d2[name].max()<=65535:\n",
        "        d2[name]= d2[name].astype(\"uint16\")\n",
        "      elif d2[name].max()<=2147483647:\n",
        "        d2[name]= d2[name].astype(\"uint32\")\n",
        "    else:\n",
        "      if d2[name].min()>=-128 and d2[name].max()<=127:\n",
        "        d2[name]= d2[name].astype(\"int8\")\n",
        "      elif d2[name].min()>=-32768 and d2[name].max()<=32767:\n",
        "        d2[name]= d2[name].astype(\"int16\")\n",
        "      elif d2[name].min()>=-2147483648 and d2[name].max()<=2147483647:\n",
        "        d2[name]= d2[name].astype(\"int32\")\n",
        "  else:\n",
        "      if d2[name].min()>=-2147483648 and d2[name].max()<=2147483647:\n",
        "        d2[name]= d2[name].astype(\"float32\")"
      ],
      "metadata": {
        "id": "7iUVQKBnxWZt"
      },
      "execution_count": 57,
      "outputs": []
    },
    {
      "cell_type": "code",
      "source": [
        "pd.set_option('display.max_rows', 500)\n",
        "for i, name in enumerate(d2.columns):\n",
        "    # print(f'\"{name}\":{{\"dtype\":{df[name].dtype}, \"min\":{df[name].min()}, \"max\":{df[name].max()}}} {\",\" if i>(len(df.columns)-1) else \"\"}')\n",
        "    print(f'\"{name}\":{{\"dtype\":{d2[name].dtype}, \"min\":{len(d2[name].unique())}}} {\",\" if i>(len(d2.columns)-1) else \"\"}')\n",
        "print(\"}\") "
      ],
      "metadata": {
        "id": "4Tchg7tsxiHG",
        "outputId": "20ebe30e-fd1d-4a4d-d77c-ed15546ba8d1",
        "colab": {
          "base_uri": "https://localhost:8080/"
        }
      },
      "execution_count": 58,
      "outputs": [
        {
          "output_type": "stream",
          "name": "stdout",
          "text": [
            "\"Dst Port\":{\"dtype\":uint16, \"min\":16134} \n",
            "\"Protocol\":{\"dtype\":uint8, \"min\":3} \n",
            "\"Flow Duration\":{\"dtype\":uint32, \"min\":153887} \n",
            "\"Tot Fwd Pkts\":{\"dtype\":uint16, \"min\":328} \n",
            "\"Tot Bwd Pkts\":{\"dtype\":uint16, \"min\":408} \n",
            "\"TotLen Fwd Pkts\":{\"dtype\":uint32, \"min\":3953} \n",
            "\"TotLen Bwd Pkts\":{\"dtype\":uint32, \"min\":8805} \n",
            "\"Fwd Pkt Len Max\":{\"dtype\":uint16, \"min\":1340} \n",
            "\"Fwd Pkt Len Min\":{\"dtype\":uint16, \"min\":126} \n",
            "\"Fwd Pkt Len Mean\":{\"dtype\":float32, \"min\":10070} \n",
            "\"Fwd Pkt Len Std\":{\"dtype\":float32, \"min\":13855} \n",
            "\"Bwd Pkt Len Max\":{\"dtype\":uint16, \"min\":857} \n",
            "\"Bwd Pkt Len Min\":{\"dtype\":uint16, \"min\":273} \n",
            "\"Bwd Pkt Len Mean\":{\"dtype\":float32, \"min\":13136} \n",
            "\"Bwd Pkt Len Std\":{\"dtype\":float32, \"min\":14788} \n",
            "\"Flow Byts/s\":{\"dtype\":Float64, \"min\":171540} \n",
            "\"Flow Pkts/s\":{\"dtype\":Float64, \"min\":155521} \n",
            "\"Flow IAT Mean\":{\"dtype\":float32, \"min\":146237} \n",
            "\"Flow IAT Std\":{\"dtype\":float32, \"min\":125735} \n",
            "\"Flow IAT Max\":{\"dtype\":uint32, \"min\":83986} \n",
            "\"Flow IAT Min\":{\"dtype\":uint32, \"min\":24730} \n",
            "\"Fwd IAT Tot\":{\"dtype\":uint32, \"min\":96006} \n",
            "\"Fwd IAT Mean\":{\"dtype\":float32, \"min\":129966} \n",
            "\"Fwd IAT Std\":{\"dtype\":float32, \"min\":97373} \n",
            "\"Fwd IAT Max\":{\"dtype\":uint32, \"min\":95023} \n",
            "\"Fwd IAT Min\":{\"dtype\":uint32, \"min\":42617} \n",
            "\"Bwd IAT Tot\":{\"dtype\":uint32, \"min\":69546} \n",
            "\"Bwd IAT Mean\":{\"dtype\":float32, \"min\":100027} \n",
            "\"Bwd IAT Std\":{\"dtype\":float32, \"min\":84068} \n",
            "\"Bwd IAT Max\":{\"dtype\":uint32, \"min\":52382} \n",
            "\"Bwd IAT Min\":{\"dtype\":uint32, \"min\":50729} \n",
            "\"Fwd PSH Flags\":{\"dtype\":uint8, \"min\":2} \n",
            "\"Bwd PSH Flags\":{\"dtype\":uint8, \"min\":1} \n",
            "\"Fwd URG Flags\":{\"dtype\":uint8, \"min\":2} \n",
            "\"Bwd URG Flags\":{\"dtype\":uint8, \"min\":1} \n",
            "\"Fwd Header Len\":{\"dtype\":uint32, \"min\":608} \n",
            "\"Bwd Header Len\":{\"dtype\":uint32, \"min\":876} \n",
            "\"Fwd Pkts/s\":{\"dtype\":float32, \"min\":154046} \n",
            "\"Bwd Pkts/s\":{\"dtype\":float32, \"min\":137742} \n",
            "\"Pkt Len Min\":{\"dtype\":uint16, \"min\":85} \n",
            "\"Pkt Len Max\":{\"dtype\":uint16, \"min\":1026} \n",
            "\"Pkt Len Mean\":{\"dtype\":float32, \"min\":19124} \n",
            "\"Pkt Len Std\":{\"dtype\":float32, \"min\":21690} \n",
            "\"Pkt Len Var\":{\"dtype\":float32, \"min\":21696} \n",
            "\"FIN Flag Cnt\":{\"dtype\":uint8, \"min\":2} \n",
            "\"SYN Flag Cnt\":{\"dtype\":uint8, \"min\":2} \n",
            "\"RST Flag Cnt\":{\"dtype\":uint8, \"min\":2} \n",
            "\"PSH Flag Cnt\":{\"dtype\":uint8, \"min\":2} \n",
            "\"ACK Flag Cnt\":{\"dtype\":uint8, \"min\":2} \n",
            "\"URG Flag Cnt\":{\"dtype\":uint8, \"min\":2} \n",
            "\"CWE Flag Count\":{\"dtype\":uint8, \"min\":2} \n",
            "\"ECE Flag Cnt\":{\"dtype\":uint8, \"min\":2} \n",
            "\"Down/Up Ratio\":{\"dtype\":uint8, \"min\":28} \n",
            "\"Pkt Size Avg\":{\"dtype\":float32, \"min\":18849} \n",
            "\"Fwd Seg Size Avg\":{\"dtype\":float32, \"min\":10070} \n",
            "\"Bwd Seg Size Avg\":{\"dtype\":float32, \"min\":13136} \n",
            "\"Fwd Byts/b Avg\":{\"dtype\":uint8, \"min\":1} \n",
            "\"Fwd Pkts/b Avg\":{\"dtype\":uint8, \"min\":1} \n",
            "\"Fwd Blk Rate Avg\":{\"dtype\":uint8, \"min\":1} \n",
            "\"Bwd Byts/b Avg\":{\"dtype\":uint8, \"min\":1} \n",
            "\"Bwd Pkts/b Avg\":{\"dtype\":uint8, \"min\":1} \n",
            "\"Bwd Blk Rate Avg\":{\"dtype\":uint8, \"min\":1} \n",
            "\"Subflow Fwd Pkts\":{\"dtype\":uint16, \"min\":328} \n",
            "\"Subflow Fwd Byts\":{\"dtype\":uint32, \"min\":3953} \n",
            "\"Subflow Bwd Pkts\":{\"dtype\":uint16, \"min\":408} \n",
            "\"Subflow Bwd Byts\":{\"dtype\":uint32, \"min\":8806} \n",
            "\"Init Fwd Win Byts\":{\"dtype\":int32, \"min\":2398} \n",
            "\"Init Bwd Win Byts\":{\"dtype\":int32, \"min\":2108} \n",
            "\"Fwd Act Data Pkts\":{\"dtype\":uint16, \"min\":131} \n",
            "\"Fwd Seg Size Min\":{\"dtype\":uint8, \"min\":10} \n",
            "\"Active Mean\":{\"dtype\":float32, \"min\":42185} \n",
            "\"Active Std\":{\"dtype\":float32, \"min\":29291} \n",
            "\"Active Max\":{\"dtype\":uint32, \"min\":41165} \n",
            "\"Active Min\":{\"dtype\":uint32, \"min\":27466} \n",
            "\"Idle Mean\":{\"dtype\":float32, \"min\":15472} \n",
            "\"Idle Std\":{\"dtype\":float32, \"min\":30540} \n",
            "\"Idle Max\":{\"dtype\":uint32, \"min\":7999} \n",
            "\"Idle Min\":{\"dtype\":uint32, \"min\":19571} \n",
            "\"Label\":{\"dtype\":object, \"min\":2} \n",
            "}\n"
          ]
        }
      ]
    },
    {
      "cell_type": "code",
      "source": [
        "df = df = pd.concat([df.reset_index(drop=True),d2.reset_index(drop=True)],axis=0)"
      ],
      "metadata": {
        "id": "mARUiHdu2b1B"
      },
      "execution_count": 59,
      "outputs": []
    },
    {
      "cell_type": "code",
      "source": [
        "df['Label'].unique()"
      ],
      "metadata": {
        "colab": {
          "base_uri": "https://localhost:8080/"
        },
        "id": "5KGeJll82oK0",
        "outputId": "e6f5ef89-5b7c-46bb-f363-32892e71fea6"
      },
      "execution_count": 60,
      "outputs": [
        {
          "output_type": "execute_result",
          "data": {
            "text/plain": [
              "array(['Benign', 'DoS attacks-GoldenEye', 'DoS attacks-Slowloris',\n",
              "       'DoS attacks-SlowHTTPTest', 'DoS attacks-Hulk', 'Infilteration'],\n",
              "      dtype=object)"
            ]
          },
          "metadata": {},
          "execution_count": 60
        }
      ]
    },
    {
      "cell_type": "code",
      "source": [
        "df.isna().sum().sum()"
      ],
      "metadata": {
        "colab": {
          "base_uri": "https://localhost:8080/"
        },
        "id": "xVZtn6ua3DkI",
        "outputId": "b868c100-3c9d-4694-9e3f-a850c0ef43dd"
      },
      "execution_count": 62,
      "outputs": [
        {
          "output_type": "execute_result",
          "data": {
            "text/plain": [
              "0"
            ]
          },
          "metadata": {},
          "execution_count": 62
        }
      ]
    },
    {
      "cell_type": "code",
      "source": [
        "# taking day10 in the variable d2\n",
        "d2 = pd.read_csv('/content/dataset/03-02-2018.csv',usecols=lambda x: x not in drp)"
      ],
      "metadata": {
        "id": "w9VBVNRv23W1"
      },
      "execution_count": 69,
      "outputs": []
    },
    {
      "cell_type": "code",
      "source": [
        "d2.Label.unique()"
      ],
      "metadata": {
        "colab": {
          "base_uri": "https://localhost:8080/"
        },
        "id": "kh3V_lKc3Ha-",
        "outputId": "c87c8efc-5c01-43ef-dab7-61064a16fc00"
      },
      "execution_count": 70,
      "outputs": [
        {
          "output_type": "execute_result",
          "data": {
            "text/plain": [
              "array(['Benign', 'Bot'], dtype=object)"
            ]
          },
          "metadata": {},
          "execution_count": 70
        }
      ]
    },
    {
      "cell_type": "code",
      "source": [
        "d2 = d2.dropna()"
      ],
      "metadata": {
        "id": "OKnAZEzf3hhg"
      },
      "execution_count": 71,
      "outputs": []
    },
    {
      "cell_type": "code",
      "source": [
        "for i, name in enumerate(d2.columns):\n",
        "  if name=='Label':\n",
        "    pass\n",
        "  elif d2[name].dtype==object:\n",
        "    d2[name] = pd.to_numeric(d2[name], errors='coerce').convert_dtypes()\n"
      ],
      "metadata": {
        "id": "LA1pod2u3hhg"
      },
      "execution_count": 72,
      "outputs": []
    },
    {
      "cell_type": "code",
      "source": [
        "pd.set_option('display.max_rows', 500)\n",
        "for i, name in enumerate(d2.columns):\n",
        "    # print(f'\"{name}\":{{\"dtype\":{df[name].dtype}, \"min\":{df[name].min()}, \"max\":{df[name].max()}}} {\",\" if i>(len(df.columns)-1) else \"\"}')\n",
        "    print(f'\"{name}\":{{\"dtype\":{d2[name].dtype}, \"min\":{len(d2[name].unique())}}} {\",\" if i>(len(d2.columns)-1) else \"\"}')\n",
        "print(\"}\") "
      ],
      "metadata": {
        "colab": {
          "base_uri": "https://localhost:8080/"
        },
        "id": "L-7zwz8P4Can",
        "outputId": "dc000b3f-40fb-4d09-ef30-7f941b818e85"
      },
      "execution_count": 73,
      "outputs": [
        {
          "output_type": "stream",
          "name": "stdout",
          "text": [
            "\"Dst Port\":{\"dtype\":int64, \"min\":37284} \n",
            "\"Protocol\":{\"dtype\":int64, \"min\":3} \n",
            "\"Flow Duration\":{\"dtype\":int64, \"min\":442344} \n",
            "\"Tot Fwd Pkts\":{\"dtype\":int64, \"min\":754} \n",
            "\"Tot Bwd Pkts\":{\"dtype\":int64, \"min\":1064} \n",
            "\"TotLen Fwd Pkts\":{\"dtype\":int64, \"min\":6266} \n",
            "\"TotLen Bwd Pkts\":{\"dtype\":float64, \"min\":18066} \n",
            "\"Fwd Pkt Len Max\":{\"dtype\":int64, \"min\":1424} \n",
            "\"Fwd Pkt Len Min\":{\"dtype\":int64, \"min\":184} \n",
            "\"Fwd Pkt Len Mean\":{\"dtype\":float64, \"min\":20086} \n",
            "\"Fwd Pkt Len Std\":{\"dtype\":float64, \"min\":33062} \n",
            "\"Bwd Pkt Len Max\":{\"dtype\":int64, \"min\":993} \n",
            "\"Bwd Pkt Len Min\":{\"dtype\":int64, \"min\":287} \n",
            "\"Bwd Pkt Len Mean\":{\"dtype\":float64, \"min\":29443} \n",
            "\"Bwd Pkt Len Std\":{\"dtype\":float64, \"min\":34946} \n",
            "\"Flow Byts/s\":{\"dtype\":float64, \"min\":458104} \n",
            "\"Flow Pkts/s\":{\"dtype\":float64, \"min\":455755} \n",
            "\"Flow IAT Mean\":{\"dtype\":float64, \"min\":400220} \n",
            "\"Flow IAT Std\":{\"dtype\":float64, \"min\":524747} \n",
            "\"Flow IAT Max\":{\"dtype\":float64, \"min\":195722} \n",
            "\"Flow IAT Min\":{\"dtype\":float64, \"min\":44058} \n",
            "\"Fwd IAT Tot\":{\"dtype\":float64, \"min\":280941} \n",
            "\"Fwd IAT Mean\":{\"dtype\":float64, \"min\":351690} \n",
            "\"Fwd IAT Std\":{\"dtype\":float64, \"min\":314718} \n",
            "\"Fwd IAT Max\":{\"dtype\":float64, \"min\":253282} \n",
            "\"Fwd IAT Min\":{\"dtype\":float64, \"min\":76576} \n",
            "\"Bwd IAT Tot\":{\"dtype\":float64, \"min\":251488} \n",
            "\"Bwd IAT Mean\":{\"dtype\":float64, \"min\":316792} \n",
            "\"Bwd IAT Std\":{\"dtype\":float64, \"min\":427831} \n",
            "\"Bwd IAT Max\":{\"dtype\":float64, \"min\":153810} \n",
            "\"Bwd IAT Min\":{\"dtype\":float64, \"min\":135436} \n",
            "\"Fwd PSH Flags\":{\"dtype\":int64, \"min\":2} \n",
            "\"Bwd PSH Flags\":{\"dtype\":int64, \"min\":1} \n",
            "\"Fwd URG Flags\":{\"dtype\":int64, \"min\":1} \n",
            "\"Bwd URG Flags\":{\"dtype\":int64, \"min\":1} \n",
            "\"Fwd Header Len\":{\"dtype\":int64, \"min\":1419} \n",
            "\"Bwd Header Len\":{\"dtype\":int64, \"min\":1976} \n",
            "\"Fwd Pkts/s\":{\"dtype\":float64, \"min\":453048} \n",
            "\"Bwd Pkts/s\":{\"dtype\":float64, \"min\":381426} \n",
            "\"Pkt Len Min\":{\"dtype\":int64, \"min\":95} \n",
            "\"Pkt Len Max\":{\"dtype\":int64, \"min\":1186} \n",
            "\"Pkt Len Mean\":{\"dtype\":float64, \"min\":43397} \n",
            "\"Pkt Len Std\":{\"dtype\":float64, \"min\":51151} \n",
            "\"Pkt Len Var\":{\"dtype\":float64, \"min\":51151} \n",
            "\"FIN Flag Cnt\":{\"dtype\":int64, \"min\":2} \n",
            "\"SYN Flag Cnt\":{\"dtype\":int64, \"min\":2} \n",
            "\"RST Flag Cnt\":{\"dtype\":int64, \"min\":2} \n",
            "\"PSH Flag Cnt\":{\"dtype\":int64, \"min\":2} \n",
            "\"ACK Flag Cnt\":{\"dtype\":int64, \"min\":2} \n",
            "\"URG Flag Cnt\":{\"dtype\":int64, \"min\":2} \n",
            "\"CWE Flag Count\":{\"dtype\":int64, \"min\":1} \n",
            "\"ECE Flag Cnt\":{\"dtype\":int64, \"min\":2} \n",
            "\"Down/Up Ratio\":{\"dtype\":int64, \"min\":72} \n",
            "\"Pkt Size Avg\":{\"dtype\":float64, \"min\":43073} \n",
            "\"Fwd Seg Size Avg\":{\"dtype\":float64, \"min\":20086} \n",
            "\"Bwd Seg Size Avg\":{\"dtype\":float64, \"min\":29443} \n",
            "\"Fwd Byts/b Avg\":{\"dtype\":int64, \"min\":1} \n",
            "\"Fwd Pkts/b Avg\":{\"dtype\":int64, \"min\":1} \n",
            "\"Fwd Blk Rate Avg\":{\"dtype\":int64, \"min\":1} \n",
            "\"Bwd Byts/b Avg\":{\"dtype\":int64, \"min\":1} \n",
            "\"Bwd Pkts/b Avg\":{\"dtype\":int64, \"min\":1} \n",
            "\"Bwd Blk Rate Avg\":{\"dtype\":int64, \"min\":1} \n",
            "\"Subflow Fwd Pkts\":{\"dtype\":int64, \"min\":754} \n",
            "\"Subflow Fwd Byts\":{\"dtype\":int64, \"min\":6266} \n",
            "\"Subflow Bwd Pkts\":{\"dtype\":int64, \"min\":1064} \n",
            "\"Subflow Bwd Byts\":{\"dtype\":int64, \"min\":18068} \n",
            "\"Init Fwd Win Byts\":{\"dtype\":int64, \"min\":3799} \n",
            "\"Init Bwd Win Byts\":{\"dtype\":int64, \"min\":4727} \n",
            "\"Fwd Act Data Pkts\":{\"dtype\":int64, \"min\":278} \n",
            "\"Fwd Seg Size Min\":{\"dtype\":int64, \"min\":9} \n",
            "\"Active Mean\":{\"dtype\":float64, \"min\":72650} \n",
            "\"Active Std\":{\"dtype\":float64, \"min\":56255} \n",
            "\"Active Max\":{\"dtype\":float64, \"min\":70259} \n",
            "\"Active Min\":{\"dtype\":float64, \"min\":43755} \n",
            "\"Idle Mean\":{\"dtype\":float64, \"min\":32540} \n",
            "\"Idle Std\":{\"dtype\":float64, \"min\":57966} \n",
            "\"Idle Max\":{\"dtype\":float64, \"min\":11321} \n",
            "\"Idle Min\":{\"dtype\":float64, \"min\":36883} \n",
            "\"Label\":{\"dtype\":object, \"min\":2} \n",
            "}\n"
          ]
        }
      ]
    },
    {
      "cell_type": "code",
      "source": [
        "d2 = d2.dropna()"
      ],
      "metadata": {
        "id": "0G454Zrn3hhh"
      },
      "execution_count": 74,
      "outputs": []
    },
    {
      "cell_type": "code",
      "source": [
        "for i, name in enumerate(d2.columns):\n",
        "  if name=='Label':\n",
        "    pass\n",
        "  elif d2[name].dtype==\"int64\":\n",
        "    if d2[name].min()>=0:\n",
        "      if d2[name].max()<=255:\n",
        "        d2[name]= d2[name].astype(\"uint8\")\n",
        "      elif d2[name].max()<=65535:\n",
        "        d2[name]= d2[name].astype(\"uint16\")\n",
        "      elif d2[name].max()<=2147483647:\n",
        "        d2[name]= d2[name].astype(\"uint32\")\n",
        "    else:\n",
        "      if d2[name].min()>=-128 and d2[name].max()<=127:\n",
        "        d2[name]= d2[name].astype(\"int8\")\n",
        "      elif d2[name].min()>=-32768 and d2[name].max()<=32767:\n",
        "        d2[name]= d2[name].astype(\"int16\")\n",
        "      elif d2[name].min()>=-2147483648 and d2[name].max()<=2147483647:\n",
        "        d2[name]= d2[name].astype(\"int32\")\n",
        "  else:\n",
        "      if d2[name].min()>=-2147483648 and d2[name].max()<=2147483647:\n",
        "        d2[name]= d2[name].astype(\"float32\")"
      ],
      "metadata": {
        "id": "yySNfC533hhh"
      },
      "execution_count": 75,
      "outputs": []
    },
    {
      "cell_type": "code",
      "source": [
        "pd.set_option('display.max_rows', 500)\n",
        "for i, name in enumerate(d2.columns):\n",
        "    # print(f'\"{name}\":{{\"dtype\":{df[name].dtype}, \"min\":{df[name].min()}, \"max\":{df[name].max()}}} {\",\" if i>(len(df.columns)-1) else \"\"}')\n",
        "    print(f'\"{name}\":{{\"dtype\":{d2[name].dtype}, \"min\":{len(d2[name].unique())}}} {\",\" if i>(len(d2.columns)-1) else \"\"}')\n",
        "print(\"}\") "
      ],
      "metadata": {
        "outputId": "f6364cfe-bf6e-41a2-a7b2-154daea5f74d",
        "colab": {
          "base_uri": "https://localhost:8080/"
        },
        "id": "MTd4dMIq3hhh"
      },
      "execution_count": 76,
      "outputs": [
        {
          "output_type": "stream",
          "name": "stdout",
          "text": [
            "\"Dst Port\":{\"dtype\":uint16, \"min\":37284} \n",
            "\"Protocol\":{\"dtype\":uint8, \"min\":3} \n",
            "\"Flow Duration\":{\"dtype\":uint32, \"min\":442344} \n",
            "\"Tot Fwd Pkts\":{\"dtype\":uint16, \"min\":754} \n",
            "\"Tot Bwd Pkts\":{\"dtype\":uint32, \"min\":1064} \n",
            "\"TotLen Fwd Pkts\":{\"dtype\":uint32, \"min\":6266} \n",
            "\"TotLen Bwd Pkts\":{\"dtype\":float32, \"min\":18066} \n",
            "\"Fwd Pkt Len Max\":{\"dtype\":uint16, \"min\":1424} \n",
            "\"Fwd Pkt Len Min\":{\"dtype\":uint16, \"min\":184} \n",
            "\"Fwd Pkt Len Mean\":{\"dtype\":float32, \"min\":20086} \n",
            "\"Fwd Pkt Len Std\":{\"dtype\":float32, \"min\":33049} \n",
            "\"Bwd Pkt Len Max\":{\"dtype\":uint16, \"min\":993} \n",
            "\"Bwd Pkt Len Min\":{\"dtype\":uint16, \"min\":287} \n",
            "\"Bwd Pkt Len Mean\":{\"dtype\":float32, \"min\":29440} \n",
            "\"Bwd Pkt Len Std\":{\"dtype\":float32, \"min\":34882} \n",
            "\"Flow Byts/s\":{\"dtype\":float64, \"min\":458104} \n",
            "\"Flow Pkts/s\":{\"dtype\":float64, \"min\":455755} \n",
            "\"Flow IAT Mean\":{\"dtype\":float32, \"min\":399468} \n",
            "\"Flow IAT Std\":{\"dtype\":float32, \"min\":510417} \n",
            "\"Flow IAT Max\":{\"dtype\":float32, \"min\":195722} \n",
            "\"Flow IAT Min\":{\"dtype\":float32, \"min\":44058} \n",
            "\"Fwd IAT Tot\":{\"dtype\":float32, \"min\":280941} \n",
            "\"Fwd IAT Mean\":{\"dtype\":float32, \"min\":350943} \n",
            "\"Fwd IAT Std\":{\"dtype\":float32, \"min\":306897} \n",
            "\"Fwd IAT Max\":{\"dtype\":float32, \"min\":253282} \n",
            "\"Fwd IAT Min\":{\"dtype\":float32, \"min\":76576} \n",
            "\"Bwd IAT Tot\":{\"dtype\":float32, \"min\":251488} \n",
            "\"Bwd IAT Mean\":{\"dtype\":float32, \"min\":316086} \n",
            "\"Bwd IAT Std\":{\"dtype\":float32, \"min\":421793} \n",
            "\"Bwd IAT Max\":{\"dtype\":float32, \"min\":153810} \n",
            "\"Bwd IAT Min\":{\"dtype\":float32, \"min\":135436} \n",
            "\"Fwd PSH Flags\":{\"dtype\":uint8, \"min\":2} \n",
            "\"Bwd PSH Flags\":{\"dtype\":uint8, \"min\":1} \n",
            "\"Fwd URG Flags\":{\"dtype\":uint8, \"min\":1} \n",
            "\"Bwd URG Flags\":{\"dtype\":uint8, \"min\":1} \n",
            "\"Fwd Header Len\":{\"dtype\":uint32, \"min\":1419} \n",
            "\"Bwd Header Len\":{\"dtype\":uint32, \"min\":1976} \n",
            "\"Fwd Pkts/s\":{\"dtype\":float32, \"min\":449513} \n",
            "\"Bwd Pkts/s\":{\"dtype\":float32, \"min\":380945} \n",
            "\"Pkt Len Min\":{\"dtype\":uint16, \"min\":95} \n",
            "\"Pkt Len Max\":{\"dtype\":uint16, \"min\":1186} \n",
            "\"Pkt Len Mean\":{\"dtype\":float32, \"min\":43397} \n",
            "\"Pkt Len Std\":{\"dtype\":float32, \"min\":51056} \n",
            "\"Pkt Len Var\":{\"dtype\":float32, \"min\":51102} \n",
            "\"FIN Flag Cnt\":{\"dtype\":uint8, \"min\":2} \n",
            "\"SYN Flag Cnt\":{\"dtype\":uint8, \"min\":2} \n",
            "\"RST Flag Cnt\":{\"dtype\":uint8, \"min\":2} \n",
            "\"PSH Flag Cnt\":{\"dtype\":uint8, \"min\":2} \n",
            "\"ACK Flag Cnt\":{\"dtype\":uint8, \"min\":2} \n",
            "\"URG Flag Cnt\":{\"dtype\":uint8, \"min\":2} \n",
            "\"CWE Flag Count\":{\"dtype\":uint8, \"min\":1} \n",
            "\"ECE Flag Cnt\":{\"dtype\":uint8, \"min\":2} \n",
            "\"Down/Up Ratio\":{\"dtype\":uint8, \"min\":72} \n",
            "\"Pkt Size Avg\":{\"dtype\":float32, \"min\":43073} \n",
            "\"Fwd Seg Size Avg\":{\"dtype\":float32, \"min\":20086} \n",
            "\"Bwd Seg Size Avg\":{\"dtype\":float32, \"min\":29440} \n",
            "\"Fwd Byts/b Avg\":{\"dtype\":uint8, \"min\":1} \n",
            "\"Fwd Pkts/b Avg\":{\"dtype\":uint8, \"min\":1} \n",
            "\"Fwd Blk Rate Avg\":{\"dtype\":uint8, \"min\":1} \n",
            "\"Bwd Byts/b Avg\":{\"dtype\":uint8, \"min\":1} \n",
            "\"Bwd Pkts/b Avg\":{\"dtype\":uint8, \"min\":1} \n",
            "\"Bwd Blk Rate Avg\":{\"dtype\":uint8, \"min\":1} \n",
            "\"Subflow Fwd Pkts\":{\"dtype\":uint16, \"min\":754} \n",
            "\"Subflow Fwd Byts\":{\"dtype\":uint32, \"min\":6266} \n",
            "\"Subflow Bwd Pkts\":{\"dtype\":uint32, \"min\":1064} \n",
            "\"Subflow Bwd Byts\":{\"dtype\":uint32, \"min\":18068} \n",
            "\"Init Fwd Win Byts\":{\"dtype\":int32, \"min\":3799} \n",
            "\"Init Bwd Win Byts\":{\"dtype\":int32, \"min\":4727} \n",
            "\"Fwd Act Data Pkts\":{\"dtype\":uint16, \"min\":278} \n",
            "\"Fwd Seg Size Min\":{\"dtype\":uint8, \"min\":9} \n",
            "\"Active Mean\":{\"dtype\":float32, \"min\":72649} \n",
            "\"Active Std\":{\"dtype\":float32, \"min\":56233} \n",
            "\"Active Max\":{\"dtype\":float32, \"min\":70259} \n",
            "\"Active Min\":{\"dtype\":float32, \"min\":43755} \n",
            "\"Idle Mean\":{\"dtype\":float32, \"min\":29828} \n",
            "\"Idle Std\":{\"dtype\":float32, \"min\":57929} \n",
            "\"Idle Max\":{\"dtype\":float32, \"min\":11321} \n",
            "\"Idle Min\":{\"dtype\":float32, \"min\":36883} \n",
            "\"Label\":{\"dtype\":object, \"min\":2} \n",
            "}\n"
          ]
        }
      ]
    },
    {
      "cell_type": "code",
      "source": [
        "df = df = pd.concat([df.reset_index(drop=True),d2.reset_index(drop=True)],axis=0)"
      ],
      "metadata": {
        "id": "r44Usjnw3hhh"
      },
      "execution_count": 77,
      "outputs": []
    },
    {
      "cell_type": "code",
      "source": [
        "df.Label.unique()"
      ],
      "metadata": {
        "colab": {
          "base_uri": "https://localhost:8080/"
        },
        "id": "MuGqkFpm4XuL",
        "outputId": "bb56ebf7-fbd1-43a2-d564-44774a4c13a6"
      },
      "execution_count": 78,
      "outputs": [
        {
          "output_type": "execute_result",
          "data": {
            "text/plain": [
              "array(['Benign', 'DoS attacks-GoldenEye', 'DoS attacks-Slowloris',\n",
              "       'DoS attacks-SlowHTTPTest', 'DoS attacks-Hulk', 'Infilteration',\n",
              "       'Bot'], dtype=object)"
            ]
          },
          "metadata": {},
          "execution_count": 78
        }
      ]
    },
    {
      "cell_type": "code",
      "source": [
        "columns_to_drop = [\n",
        "    'Dst Port',\n",
        "    'Fwd PSH Flags',\n",
        "    'Bwd PSH Flags',\n",
        "    'Fwd URG Flags',\n",
        "    'Bwd URG Flags',\n",
        "    'Flow Byts/s',  # This field had np.inf values during training, as such was removed\n",
        "    'Flow Pkts/s'  # This field had np.inf values during training, as such was removed\n",
        "]"
      ],
      "metadata": {
        "id": "RkfKq2Jl54ct"
      },
      "execution_count": 79,
      "outputs": []
    },
    {
      "cell_type": "code",
      "source": [
        "df.drop(columns=columns_to_drop, inplace=True)"
      ],
      "metadata": {
        "id": "BQIzCgVwG7Bc"
      },
      "execution_count": 80,
      "outputs": []
    },
    {
      "cell_type": "code",
      "source": [
        "df.shape"
      ],
      "metadata": {
        "colab": {
          "base_uri": "https://localhost:8080/"
        },
        "id": "P-THZr0aHBXN",
        "outputId": "a2d3236a-76fe-4b4e-ea37-9a33d15024ca"
      },
      "execution_count": 81,
      "outputs": [
        {
          "output_type": "execute_result",
          "data": {
            "text/plain": [
              "(3467511, 72)"
            ]
          },
          "metadata": {},
          "execution_count": 81
        }
      ]
    },
    {
      "cell_type": "code",
      "source": [
        "df.drop_duplicates(inplace=True)"
      ],
      "metadata": {
        "id": "V8m99FWOHIGc"
      },
      "execution_count": 82,
      "outputs": []
    },
    {
      "cell_type": "code",
      "source": [
        "df.shape"
      ],
      "metadata": {
        "colab": {
          "base_uri": "https://localhost:8080/"
        },
        "id": "tJJsInfKHPhG",
        "outputId": "79c071e6-7b80-4eef-857d-f9028ee5d5de"
      },
      "execution_count": 83,
      "outputs": [
        {
          "output_type": "execute_result",
          "data": {
            "text/plain": [
              "(2335597, 72)"
            ]
          },
          "metadata": {},
          "execution_count": 83
        }
      ]
    },
    {
      "cell_type": "code",
      "source": [
        "df.Label.unique()"
      ],
      "metadata": {
        "colab": {
          "base_uri": "https://localhost:8080/"
        },
        "id": "TCe6ExJ_HWsr",
        "outputId": "14f4b259-bad7-4088-f5f3-8719a1af1341"
      },
      "execution_count": 84,
      "outputs": [
        {
          "output_type": "execute_result",
          "data": {
            "text/plain": [
              "array(['Benign', 'DoS attacks-GoldenEye', 'DoS attacks-Slowloris',\n",
              "       'DoS attacks-SlowHTTPTest', 'DoS attacks-Hulk', 'Infilteration',\n",
              "       'Bot'], dtype=object)"
            ]
          },
          "metadata": {},
          "execution_count": 84
        }
      ]
    },
    {
      "cell_type": "markdown",
      "source": [
        "Now creating the modified datasets"
      ],
      "metadata": {
        "id": "Sjia3H78KcNL"
      }
    },
    {
      "cell_type": "code",
      "source": [
        "d0 = df.replace('Benign', 0) # here converting the categorical values to numeric\n",
        "d1 = d0.replace('Bot', 1)\n",
        "d2 = d1.replace('DoS attacks-GoldenEye', 2)\n",
        "d3 = d2.replace('DoS attacks-Hulk', 3)\n",
        "d4 = d3.replace('DoS attacks-SlowHTTPTest', 4)\n",
        "d5 = d4.replace('DoS attacks-Slowloris', 5)\n",
        "d6 = d5.replace('Infilteration', 6)\n",
        "df = d6\n",
        "d0=d1=d2=d3=d4=d5=d6=''"
      ],
      "metadata": {
        "id": "C12Efx-oR5nJ"
      },
      "execution_count": 103,
      "outputs": []
    },
    {
      "cell_type": "code",
      "source": [
        "df = df.astype({\"Protocol\": str})"
      ],
      "metadata": {
        "id": "3e36l2BqV2EJ"
      },
      "execution_count": 111,
      "outputs": []
    },
    {
      "cell_type": "code",
      "source": [
        "df.Protocol.unique()"
      ],
      "metadata": {
        "colab": {
          "base_uri": "https://localhost:8080/"
        },
        "id": "urK78CziVuxy",
        "outputId": "590ee02c-63da-461e-99d7-80a1a3b95bc9"
      },
      "execution_count": 112,
      "outputs": [
        {
          "output_type": "execute_result",
          "data": {
            "text/plain": [
              "array(['0', '6', '17'], dtype=object)"
            ]
          },
          "metadata": {},
          "execution_count": 112
        }
      ]
    },
    {
      "cell_type": "code",
      "source": [
        "df = pd.get_dummies(df, columns=['Protocol'], drop_first=True)"
      ],
      "metadata": {
        "id": "55DQyLcfV_Xq"
      },
      "execution_count": 114,
      "outputs": []
    },
    {
      "cell_type": "code",
      "source": [
        "# For reproducible results\n",
        "RANDOM_STATE_SEED = 420\n",
        "train, test = train_test_split(df, test_size=0.3, random_state=RANDOM_STATE_SEED)"
      ],
      "metadata": {
        "id": "HoZ4Cm71SfEY"
      },
      "execution_count": 115,
      "outputs": []
    },
    {
      "cell_type": "code",
      "source": [
        "train"
      ],
      "metadata": {
        "colab": {
          "base_uri": "https://localhost:8080/",
          "height": 540
        },
        "id": "DLzYLIYNWYRK",
        "outputId": "683fc1c3-7cd0-45d0-a8df-61b6c4a48682"
      },
      "execution_count": 116,
      "outputs": [
        {
          "output_type": "execute_result",
          "data": {
            "text/plain": [
              "         Flow Duration  Tot Fwd Pkts  Tot Bwd Pkts  TotLen Fwd Pkts  \\\n",
              "160215         2165024             8             7             1128   \n",
              "734136             575             3             4              161   \n",
              "1504727          34965             2             0                0   \n",
              "645754            1244             1             1               37   \n",
              "151970           11516             3             4              326   \n",
              "...                ...           ...           ...              ...   \n",
              "10394          5071749             4             4              286   \n",
              "973237         1594063             8             7             1138   \n",
              "37908           131557             2             0                0   \n",
              "198376         1702114             8             7             1144   \n",
              "1323212          43800             3             0                0   \n",
              "\n",
              "         TotLen Bwd Pkts  Fwd Pkt Len Max  Fwd Pkt Len Min  Fwd Pkt Len Mean  \\\n",
              "160215            1581.0              661                0        141.000000   \n",
              "734136             488.0              161                0         53.666668   \n",
              "1504727              0.0                0                0          0.000000   \n",
              "645754              77.0               37               37         37.000000   \n",
              "151970             129.0              326                0        108.666664   \n",
              "...                  ...              ...              ...               ...   \n",
              "10394              972.0              286                0         71.500000   \n",
              "973237            1581.0              677                0        142.250000   \n",
              "37908                0.0                0                0          0.000000   \n",
              "198376            1581.0              677                0        143.000000   \n",
              "1323212              0.0                0                0          0.000000   \n",
              "\n",
              "         Fwd Pkt Len Std  Bwd Pkt Len Max  ...  Active Std  Active Max  \\\n",
              "160215        222.623322             1173  ...         0.0         0.0   \n",
              "734136         92.953392              488  ...         0.0         0.0   \n",
              "1504727         0.000000                0  ...         0.0         0.0   \n",
              "645754          0.000000               77  ...         0.0         0.0   \n",
              "151970        188.216187              112  ...         0.0         0.0   \n",
              "...                  ...              ...  ...         ...         ...   \n",
              "10394         143.000000              972  ...         0.0         0.0   \n",
              "973237        227.746567             1173  ...         0.0         0.0   \n",
              "37908           0.000000                0  ...         0.0         0.0   \n",
              "198376        227.969925             1173  ...         0.0         0.0   \n",
              "1323212         0.000000                0  ...         0.0         0.0   \n",
              "\n",
              "         Active Min  Idle Mean  Idle Std  Idle Max  Idle Min  Label  \\\n",
              "160215          0.0        0.0       0.0       0.0       0.0      0   \n",
              "734136          0.0        0.0       0.0       0.0       0.0      0   \n",
              "1504727         0.0        0.0       0.0       0.0       0.0      3   \n",
              "645754          0.0        0.0       0.0       0.0       0.0      0   \n",
              "151970          0.0        0.0       0.0       0.0       0.0      1   \n",
              "...             ...        ...       ...       ...       ...    ...   \n",
              "10394           0.0        0.0       0.0       0.0       0.0      2   \n",
              "973237          0.0        0.0       0.0       0.0       0.0      0   \n",
              "37908           0.0        0.0       0.0       0.0       0.0      0   \n",
              "198376          0.0        0.0       0.0       0.0       0.0      0   \n",
              "1323212         0.0        0.0       0.0       0.0       0.0      3   \n",
              "\n",
              "         Protocol_17  Protocol_6  \n",
              "160215             0           1  \n",
              "734136             0           1  \n",
              "1504727            0           1  \n",
              "645754             1           0  \n",
              "151970             0           1  \n",
              "...              ...         ...  \n",
              "10394              0           1  \n",
              "973237             0           1  \n",
              "37908              0           0  \n",
              "198376             0           1  \n",
              "1323212            0           1  \n",
              "\n",
              "[1634917 rows x 73 columns]"
            ],
            "text/html": [
              "\n",
              "  <div id=\"df-fda0a50a-11f4-4dd4-b0a2-9cd0a5b4cfab\">\n",
              "    <div class=\"colab-df-container\">\n",
              "      <div>\n",
              "<style scoped>\n",
              "    .dataframe tbody tr th:only-of-type {\n",
              "        vertical-align: middle;\n",
              "    }\n",
              "\n",
              "    .dataframe tbody tr th {\n",
              "        vertical-align: top;\n",
              "    }\n",
              "\n",
              "    .dataframe thead th {\n",
              "        text-align: right;\n",
              "    }\n",
              "</style>\n",
              "<table border=\"1\" class=\"dataframe\">\n",
              "  <thead>\n",
              "    <tr style=\"text-align: right;\">\n",
              "      <th></th>\n",
              "      <th>Flow Duration</th>\n",
              "      <th>Tot Fwd Pkts</th>\n",
              "      <th>Tot Bwd Pkts</th>\n",
              "      <th>TotLen Fwd Pkts</th>\n",
              "      <th>TotLen Bwd Pkts</th>\n",
              "      <th>Fwd Pkt Len Max</th>\n",
              "      <th>Fwd Pkt Len Min</th>\n",
              "      <th>Fwd Pkt Len Mean</th>\n",
              "      <th>Fwd Pkt Len Std</th>\n",
              "      <th>Bwd Pkt Len Max</th>\n",
              "      <th>...</th>\n",
              "      <th>Active Std</th>\n",
              "      <th>Active Max</th>\n",
              "      <th>Active Min</th>\n",
              "      <th>Idle Mean</th>\n",
              "      <th>Idle Std</th>\n",
              "      <th>Idle Max</th>\n",
              "      <th>Idle Min</th>\n",
              "      <th>Label</th>\n",
              "      <th>Protocol_17</th>\n",
              "      <th>Protocol_6</th>\n",
              "    </tr>\n",
              "  </thead>\n",
              "  <tbody>\n",
              "    <tr>\n",
              "      <th>160215</th>\n",
              "      <td>2165024</td>\n",
              "      <td>8</td>\n",
              "      <td>7</td>\n",
              "      <td>1128</td>\n",
              "      <td>1581.0</td>\n",
              "      <td>661</td>\n",
              "      <td>0</td>\n",
              "      <td>141.000000</td>\n",
              "      <td>222.623322</td>\n",
              "      <td>1173</td>\n",
              "      <td>...</td>\n",
              "      <td>0.0</td>\n",
              "      <td>0.0</td>\n",
              "      <td>0.0</td>\n",
              "      <td>0.0</td>\n",
              "      <td>0.0</td>\n",
              "      <td>0.0</td>\n",
              "      <td>0.0</td>\n",
              "      <td>0</td>\n",
              "      <td>0</td>\n",
              "      <td>1</td>\n",
              "    </tr>\n",
              "    <tr>\n",
              "      <th>734136</th>\n",
              "      <td>575</td>\n",
              "      <td>3</td>\n",
              "      <td>4</td>\n",
              "      <td>161</td>\n",
              "      <td>488.0</td>\n",
              "      <td>161</td>\n",
              "      <td>0</td>\n",
              "      <td>53.666668</td>\n",
              "      <td>92.953392</td>\n",
              "      <td>488</td>\n",
              "      <td>...</td>\n",
              "      <td>0.0</td>\n",
              "      <td>0.0</td>\n",
              "      <td>0.0</td>\n",
              "      <td>0.0</td>\n",
              "      <td>0.0</td>\n",
              "      <td>0.0</td>\n",
              "      <td>0.0</td>\n",
              "      <td>0</td>\n",
              "      <td>0</td>\n",
              "      <td>1</td>\n",
              "    </tr>\n",
              "    <tr>\n",
              "      <th>1504727</th>\n",
              "      <td>34965</td>\n",
              "      <td>2</td>\n",
              "      <td>0</td>\n",
              "      <td>0</td>\n",
              "      <td>0.0</td>\n",
              "      <td>0</td>\n",
              "      <td>0</td>\n",
              "      <td>0.000000</td>\n",
              "      <td>0.000000</td>\n",
              "      <td>0</td>\n",
              "      <td>...</td>\n",
              "      <td>0.0</td>\n",
              "      <td>0.0</td>\n",
              "      <td>0.0</td>\n",
              "      <td>0.0</td>\n",
              "      <td>0.0</td>\n",
              "      <td>0.0</td>\n",
              "      <td>0.0</td>\n",
              "      <td>3</td>\n",
              "      <td>0</td>\n",
              "      <td>1</td>\n",
              "    </tr>\n",
              "    <tr>\n",
              "      <th>645754</th>\n",
              "      <td>1244</td>\n",
              "      <td>1</td>\n",
              "      <td>1</td>\n",
              "      <td>37</td>\n",
              "      <td>77.0</td>\n",
              "      <td>37</td>\n",
              "      <td>37</td>\n",
              "      <td>37.000000</td>\n",
              "      <td>0.000000</td>\n",
              "      <td>77</td>\n",
              "      <td>...</td>\n",
              "      <td>0.0</td>\n",
              "      <td>0.0</td>\n",
              "      <td>0.0</td>\n",
              "      <td>0.0</td>\n",
              "      <td>0.0</td>\n",
              "      <td>0.0</td>\n",
              "      <td>0.0</td>\n",
              "      <td>0</td>\n",
              "      <td>1</td>\n",
              "      <td>0</td>\n",
              "    </tr>\n",
              "    <tr>\n",
              "      <th>151970</th>\n",
              "      <td>11516</td>\n",
              "      <td>3</td>\n",
              "      <td>4</td>\n",
              "      <td>326</td>\n",
              "      <td>129.0</td>\n",
              "      <td>326</td>\n",
              "      <td>0</td>\n",
              "      <td>108.666664</td>\n",
              "      <td>188.216187</td>\n",
              "      <td>112</td>\n",
              "      <td>...</td>\n",
              "      <td>0.0</td>\n",
              "      <td>0.0</td>\n",
              "      <td>0.0</td>\n",
              "      <td>0.0</td>\n",
              "      <td>0.0</td>\n",
              "      <td>0.0</td>\n",
              "      <td>0.0</td>\n",
              "      <td>1</td>\n",
              "      <td>0</td>\n",
              "      <td>1</td>\n",
              "    </tr>\n",
              "    <tr>\n",
              "      <th>...</th>\n",
              "      <td>...</td>\n",
              "      <td>...</td>\n",
              "      <td>...</td>\n",
              "      <td>...</td>\n",
              "      <td>...</td>\n",
              "      <td>...</td>\n",
              "      <td>...</td>\n",
              "      <td>...</td>\n",
              "      <td>...</td>\n",
              "      <td>...</td>\n",
              "      <td>...</td>\n",
              "      <td>...</td>\n",
              "      <td>...</td>\n",
              "      <td>...</td>\n",
              "      <td>...</td>\n",
              "      <td>...</td>\n",
              "      <td>...</td>\n",
              "      <td>...</td>\n",
              "      <td>...</td>\n",
              "      <td>...</td>\n",
              "      <td>...</td>\n",
              "    </tr>\n",
              "    <tr>\n",
              "      <th>10394</th>\n",
              "      <td>5071749</td>\n",
              "      <td>4</td>\n",
              "      <td>4</td>\n",
              "      <td>286</td>\n",
              "      <td>972.0</td>\n",
              "      <td>286</td>\n",
              "      <td>0</td>\n",
              "      <td>71.500000</td>\n",
              "      <td>143.000000</td>\n",
              "      <td>972</td>\n",
              "      <td>...</td>\n",
              "      <td>0.0</td>\n",
              "      <td>0.0</td>\n",
              "      <td>0.0</td>\n",
              "      <td>0.0</td>\n",
              "      <td>0.0</td>\n",
              "      <td>0.0</td>\n",
              "      <td>0.0</td>\n",
              "      <td>2</td>\n",
              "      <td>0</td>\n",
              "      <td>1</td>\n",
              "    </tr>\n",
              "    <tr>\n",
              "      <th>973237</th>\n",
              "      <td>1594063</td>\n",
              "      <td>8</td>\n",
              "      <td>7</td>\n",
              "      <td>1138</td>\n",
              "      <td>1581.0</td>\n",
              "      <td>677</td>\n",
              "      <td>0</td>\n",
              "      <td>142.250000</td>\n",
              "      <td>227.746567</td>\n",
              "      <td>1173</td>\n",
              "      <td>...</td>\n",
              "      <td>0.0</td>\n",
              "      <td>0.0</td>\n",
              "      <td>0.0</td>\n",
              "      <td>0.0</td>\n",
              "      <td>0.0</td>\n",
              "      <td>0.0</td>\n",
              "      <td>0.0</td>\n",
              "      <td>0</td>\n",
              "      <td>0</td>\n",
              "      <td>1</td>\n",
              "    </tr>\n",
              "    <tr>\n",
              "      <th>37908</th>\n",
              "      <td>131557</td>\n",
              "      <td>2</td>\n",
              "      <td>0</td>\n",
              "      <td>0</td>\n",
              "      <td>0.0</td>\n",
              "      <td>0</td>\n",
              "      <td>0</td>\n",
              "      <td>0.000000</td>\n",
              "      <td>0.000000</td>\n",
              "      <td>0</td>\n",
              "      <td>...</td>\n",
              "      <td>0.0</td>\n",
              "      <td>0.0</td>\n",
              "      <td>0.0</td>\n",
              "      <td>0.0</td>\n",
              "      <td>0.0</td>\n",
              "      <td>0.0</td>\n",
              "      <td>0.0</td>\n",
              "      <td>0</td>\n",
              "      <td>0</td>\n",
              "      <td>0</td>\n",
              "    </tr>\n",
              "    <tr>\n",
              "      <th>198376</th>\n",
              "      <td>1702114</td>\n",
              "      <td>8</td>\n",
              "      <td>7</td>\n",
              "      <td>1144</td>\n",
              "      <td>1581.0</td>\n",
              "      <td>677</td>\n",
              "      <td>0</td>\n",
              "      <td>143.000000</td>\n",
              "      <td>227.969925</td>\n",
              "      <td>1173</td>\n",
              "      <td>...</td>\n",
              "      <td>0.0</td>\n",
              "      <td>0.0</td>\n",
              "      <td>0.0</td>\n",
              "      <td>0.0</td>\n",
              "      <td>0.0</td>\n",
              "      <td>0.0</td>\n",
              "      <td>0.0</td>\n",
              "      <td>0</td>\n",
              "      <td>0</td>\n",
              "      <td>1</td>\n",
              "    </tr>\n",
              "    <tr>\n",
              "      <th>1323212</th>\n",
              "      <td>43800</td>\n",
              "      <td>3</td>\n",
              "      <td>0</td>\n",
              "      <td>0</td>\n",
              "      <td>0.0</td>\n",
              "      <td>0</td>\n",
              "      <td>0</td>\n",
              "      <td>0.000000</td>\n",
              "      <td>0.000000</td>\n",
              "      <td>0</td>\n",
              "      <td>...</td>\n",
              "      <td>0.0</td>\n",
              "      <td>0.0</td>\n",
              "      <td>0.0</td>\n",
              "      <td>0.0</td>\n",
              "      <td>0.0</td>\n",
              "      <td>0.0</td>\n",
              "      <td>0.0</td>\n",
              "      <td>3</td>\n",
              "      <td>0</td>\n",
              "      <td>1</td>\n",
              "    </tr>\n",
              "  </tbody>\n",
              "</table>\n",
              "<p>1634917 rows × 73 columns</p>\n",
              "</div>\n",
              "      <button class=\"colab-df-convert\" onclick=\"convertToInteractive('df-fda0a50a-11f4-4dd4-b0a2-9cd0a5b4cfab')\"\n",
              "              title=\"Convert this dataframe to an interactive table.\"\n",
              "              style=\"display:none;\">\n",
              "        \n",
              "  <svg xmlns=\"http://www.w3.org/2000/svg\" height=\"24px\"viewBox=\"0 0 24 24\"\n",
              "       width=\"24px\">\n",
              "    <path d=\"M0 0h24v24H0V0z\" fill=\"none\"/>\n",
              "    <path d=\"M18.56 5.44l.94 2.06.94-2.06 2.06-.94-2.06-.94-.94-2.06-.94 2.06-2.06.94zm-11 1L8.5 8.5l.94-2.06 2.06-.94-2.06-.94L8.5 2.5l-.94 2.06-2.06.94zm10 10l.94 2.06.94-2.06 2.06-.94-2.06-.94-.94-2.06-.94 2.06-2.06.94z\"/><path d=\"M17.41 7.96l-1.37-1.37c-.4-.4-.92-.59-1.43-.59-.52 0-1.04.2-1.43.59L10.3 9.45l-7.72 7.72c-.78.78-.78 2.05 0 2.83L4 21.41c.39.39.9.59 1.41.59.51 0 1.02-.2 1.41-.59l7.78-7.78 2.81-2.81c.8-.78.8-2.07 0-2.86zM5.41 20L4 18.59l7.72-7.72 1.47 1.35L5.41 20z\"/>\n",
              "  </svg>\n",
              "      </button>\n",
              "      \n",
              "  <style>\n",
              "    .colab-df-container {\n",
              "      display:flex;\n",
              "      flex-wrap:wrap;\n",
              "      gap: 12px;\n",
              "    }\n",
              "\n",
              "    .colab-df-convert {\n",
              "      background-color: #E8F0FE;\n",
              "      border: none;\n",
              "      border-radius: 50%;\n",
              "      cursor: pointer;\n",
              "      display: none;\n",
              "      fill: #1967D2;\n",
              "      height: 32px;\n",
              "      padding: 0 0 0 0;\n",
              "      width: 32px;\n",
              "    }\n",
              "\n",
              "    .colab-df-convert:hover {\n",
              "      background-color: #E2EBFA;\n",
              "      box-shadow: 0px 1px 2px rgba(60, 64, 67, 0.3), 0px 1px 3px 1px rgba(60, 64, 67, 0.15);\n",
              "      fill: #174EA6;\n",
              "    }\n",
              "\n",
              "    [theme=dark] .colab-df-convert {\n",
              "      background-color: #3B4455;\n",
              "      fill: #D2E3FC;\n",
              "    }\n",
              "\n",
              "    [theme=dark] .colab-df-convert:hover {\n",
              "      background-color: #434B5C;\n",
              "      box-shadow: 0px 1px 3px 1px rgba(0, 0, 0, 0.15);\n",
              "      filter: drop-shadow(0px 1px 2px rgba(0, 0, 0, 0.3));\n",
              "      fill: #FFFFFF;\n",
              "    }\n",
              "  </style>\n",
              "\n",
              "      <script>\n",
              "        const buttonEl =\n",
              "          document.querySelector('#df-fda0a50a-11f4-4dd4-b0a2-9cd0a5b4cfab button.colab-df-convert');\n",
              "        buttonEl.style.display =\n",
              "          google.colab.kernel.accessAllowed ? 'block' : 'none';\n",
              "\n",
              "        async function convertToInteractive(key) {\n",
              "          const element = document.querySelector('#df-fda0a50a-11f4-4dd4-b0a2-9cd0a5b4cfab');\n",
              "          const dataTable =\n",
              "            await google.colab.kernel.invokeFunction('convertToInteractive',\n",
              "                                                     [key], {});\n",
              "          if (!dataTable) return;\n",
              "\n",
              "          const docLinkHtml = 'Like what you see? Visit the ' +\n",
              "            '<a target=\"_blank\" href=https://colab.research.google.com/notebooks/data_table.ipynb>data table notebook</a>'\n",
              "            + ' to learn more about interactive tables.';\n",
              "          element.innerHTML = '';\n",
              "          dataTable['output_type'] = 'display_data';\n",
              "          await google.colab.output.renderOutput(dataTable, element);\n",
              "          const docLink = document.createElement('div');\n",
              "          docLink.innerHTML = docLinkHtml;\n",
              "          element.appendChild(docLink);\n",
              "        }\n",
              "      </script>\n",
              "    </div>\n",
              "  </div>\n",
              "  "
            ]
          },
          "metadata": {},
          "execution_count": 116
        }
      ]
    },
    {
      "cell_type": "code",
      "source": [
        "numerical_cols = df.columns[:-3]\n",
        "numerical_cols"
      ],
      "metadata": {
        "colab": {
          "base_uri": "https://localhost:8080/"
        },
        "id": "hDJFRP6OXBQk",
        "outputId": "b3f1891b-197d-46fc-b970-a624d4fdf377"
      },
      "execution_count": 117,
      "outputs": [
        {
          "output_type": "execute_result",
          "data": {
            "text/plain": [
              "Index(['Flow Duration', 'Tot Fwd Pkts', 'Tot Bwd Pkts', 'TotLen Fwd Pkts',\n",
              "       'TotLen Bwd Pkts', 'Fwd Pkt Len Max', 'Fwd Pkt Len Min',\n",
              "       'Fwd Pkt Len Mean', 'Fwd Pkt Len Std', 'Bwd Pkt Len Max',\n",
              "       'Bwd Pkt Len Min', 'Bwd Pkt Len Mean', 'Bwd Pkt Len Std',\n",
              "       'Flow IAT Mean', 'Flow IAT Std', 'Flow IAT Max', 'Flow IAT Min',\n",
              "       'Fwd IAT Tot', 'Fwd IAT Mean', 'Fwd IAT Std', 'Fwd IAT Max',\n",
              "       'Fwd IAT Min', 'Bwd IAT Tot', 'Bwd IAT Mean', 'Bwd IAT Std',\n",
              "       'Bwd IAT Max', 'Bwd IAT Min', 'Fwd Header Len', 'Bwd Header Len',\n",
              "       'Fwd Pkts/s', 'Bwd Pkts/s', 'Pkt Len Min', 'Pkt Len Max',\n",
              "       'Pkt Len Mean', 'Pkt Len Std', 'Pkt Len Var', 'FIN Flag Cnt',\n",
              "       'SYN Flag Cnt', 'RST Flag Cnt', 'PSH Flag Cnt', 'ACK Flag Cnt',\n",
              "       'URG Flag Cnt', 'CWE Flag Count', 'ECE Flag Cnt', 'Down/Up Ratio',\n",
              "       'Pkt Size Avg', 'Fwd Seg Size Avg', 'Bwd Seg Size Avg',\n",
              "       'Fwd Byts/b Avg', 'Fwd Pkts/b Avg', 'Fwd Blk Rate Avg',\n",
              "       'Bwd Byts/b Avg', 'Bwd Pkts/b Avg', 'Bwd Blk Rate Avg',\n",
              "       'Subflow Fwd Pkts', 'Subflow Fwd Byts', 'Subflow Bwd Pkts',\n",
              "       'Subflow Bwd Byts', 'Init Fwd Win Byts', 'Init Bwd Win Byts',\n",
              "       'Fwd Act Data Pkts', 'Fwd Seg Size Min', 'Active Mean', 'Active Std',\n",
              "       'Active Max', 'Active Min', 'Idle Mean', 'Idle Std', 'Idle Max',\n",
              "       'Idle Min'],\n",
              "      dtype='object')"
            ]
          },
          "metadata": {},
          "execution_count": 117
        }
      ]
    },
    {
      "cell_type": "code",
      "source": [
        "min_max_scaler = MinMaxScaler().fit(train[numerical_cols])"
      ],
      "metadata": {
        "id": "kki2U0pUXJAZ"
      },
      "execution_count": 121,
      "outputs": []
    },
    {
      "cell_type": "code",
      "source": [
        "train[numerical_cols] = min_max_scaler.transform(train[numerical_cols])"
      ],
      "metadata": {
        "id": "ZI0ltsVMXtPO"
      },
      "execution_count": 122,
      "outputs": []
    },
    {
      "cell_type": "code",
      "source": [
        "test[numerical_cols] = min_max_scaler.transform(test[numerical_cols])"
      ],
      "metadata": {
        "id": "QaThUjhaX6KD"
      },
      "execution_count": 123,
      "outputs": []
    },
    {
      "cell_type": "code",
      "source": [
        "y_train = np.array(train.pop(\"Label\"))\n",
        "X_train = train.values"
      ],
      "metadata": {
        "id": "Pg5GWn3Kawkw"
      },
      "execution_count": 124,
      "outputs": []
    },
    {
      "cell_type": "code",
      "source": [
        "y_test = np.array(test.pop(\"Label\"))\n",
        "X_test = test.values"
      ],
      "metadata": {
        "id": "OZ8LBsJDa4gT"
      },
      "execution_count": 125,
      "outputs": []
    },
    {
      "cell_type": "code",
      "source": [
        "#create the model with 100 trees\n",
        "model = KNeighborsClassifier(n_neighbors=3)\n",
        "model = model.fit(X_train, y_train)"
      ],
      "metadata": {
        "id": "sFQjz-qhbOfB"
      },
      "execution_count": 126,
      "outputs": []
    },
    {
      "cell_type": "code",
      "source": [
        "predicted = model.predict(X_test)"
      ],
      "metadata": {
        "id": "XJAYTWoabeej"
      },
      "execution_count": null,
      "outputs": []
    }
  ]
}